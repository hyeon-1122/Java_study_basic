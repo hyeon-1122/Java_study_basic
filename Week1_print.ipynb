{
 "cells": [
  {
   "cell_type": "code",
   "execution_count": 1,
   "id": "dfcd6f0b-28a4-4c60-8ba7-78a8e275cd5a",
   "metadata": {},
   "outputs": [
    {
     "data": {
      "text/plain": [
       "'C:\\\\Users\\\\leeha\\\\Study\\\\java_basic'"
      ]
     },
     "execution_count": 1,
     "metadata": {},
     "output_type": "execute_result"
    }
   ],
   "source": [
    "import os\n",
    "os.getcwd()"
   ]
  },
  {
   "cell_type": "code",
   "execution_count": 2,
   "id": "a154ac65-20c9-4eb5-9d47-e26654a305a8",
   "metadata": {},
   "outputs": [
    {
     "name": "stdout",
     "output_type": "stream",
     "text": [
      "Overwriting src/HelloWorld.java\n"
     ]
    }
   ],
   "source": [
    "%%writefile src/HelloWorld.java\n",
    "public class HelloWorld{\n",
    "    public static void main(String[] args){\n",
    "        System.out.println(\"Hello World!\");\n",
    "    }\n",
    "}"
   ]
  },
  {
   "cell_type": "code",
   "execution_count": 3,
   "id": "1cc2465b-00ba-49f8-b8ba-a192538cab4b",
   "metadata": {},
   "outputs": [],
   "source": [
    "!javac -d classes/ -sourcepath src src/HelloWorld.java"
   ]
  },
  {
   "cell_type": "code",
   "execution_count": 4,
   "id": "29e78acb-6038-4a27-ba19-8fefa3720702",
   "metadata": {},
   "outputs": [
    {
     "name": "stdout",
     "output_type": "stream",
     "text": [
      "Hello World!\n"
     ]
    }
   ],
   "source": [
    "!java -cp classes/ HelloWorld"
   ]
  },
  {
   "cell_type": "code",
   "execution_count": 5,
   "id": "e808752f-2441-4779-8150-3c86c09c21f2",
   "metadata": {},
   "outputs": [
    {
     "name": "stdout",
     "output_type": "stream",
     "text": [
      "Overwriting src/PlusNum.java\n"
     ]
    }
   ],
   "source": [
    "%%writefile src/PlusNum.java\n",
    "import java.util.Scanner;\n",
    "public class PlusNum{\n",
    "    public static void main(String[] args){\n",
    "        Scanner in= new Scanner(System.in);\n",
    "        int first=in.nextInt();\n",
    "        int second=in.nextInt();\n",
    "        System.out.println(first+second);\n",
    "    }\n",
    "}"
   ]
  },
  {
   "cell_type": "code",
   "execution_count": 6,
   "id": "2d404f35-6bb1-4125-aeb2-1d4a0db5cce4",
   "metadata": {},
   "outputs": [],
   "source": [
    "!javac -d classes/ -sourcepath src src/PlusNum.java"
   ]
  },
  {
   "cell_type": "code",
   "execution_count": null,
   "id": "94c1a895-82b6-4c94-a653-6876351de83b",
   "metadata": {},
   "outputs": [],
   "source": [
    "!java -cp classes/ PlusNum"
   ]
  },
  {
   "cell_type": "code",
   "execution_count": 7,
   "id": "741a2750-ac29-4f56-9655-855092d03d0e",
   "metadata": {},
   "outputs": [
    {
     "name": "stdout",
     "output_type": "stream",
     "text": [
      "Overwriting src/MinusNum.java\n"
     ]
    }
   ],
   "source": [
    "%%writefile src/MinusNum.java\n",
    "import java.util.Scanner;\n",
    "public class MinusNum{\n",
    "    public static void main(String[] args){\n",
    "        Scanner in= new Scanner(System.in);\n",
    "        int first=in.nextInt();\n",
    "        int second=in.nextInt();\n",
    "        System.out.println(first-second);\n",
    "    }\n",
    "}"
   ]
  },
  {
   "cell_type": "code",
   "execution_count": 8,
   "id": "30b666c7-b845-4a42-9cb8-f7b674de2684",
   "metadata": {},
   "outputs": [],
   "source": [
    "!javac -d classes/ -sourcepath src src/MinusNum.java"
   ]
  },
  {
   "cell_type": "code",
   "execution_count": null,
   "id": "0a317a89-9fcd-43a1-8473-868cdb433540",
   "metadata": {},
   "outputs": [],
   "source": [
    "!java -cp classes/ MinusNum"
   ]
  },
  {
   "cell_type": "code",
   "execution_count": 9,
   "id": "1780f620-b171-4766-aa54-b1281baa9ecf",
   "metadata": {},
   "outputs": [
    {
     "name": "stdout",
     "output_type": "stream",
     "text": [
      "Overwriting src/MultiNum.java\n"
     ]
    }
   ],
   "source": [
    "%%writefile src/MultiNum.java\n",
    "import java.util.Scanner;\n",
    "public class MultiNum{\n",
    "    public static void main(String[] args){\n",
    "        Scanner in= new Scanner(System.in);\n",
    "        int first=in.nextInt();\n",
    "        int second=in.nextInt();\n",
    "        System.out.println(first*second);\n",
    "    }\n",
    "}"
   ]
  },
  {
   "cell_type": "code",
   "execution_count": 10,
   "id": "3402abc1-842f-4d74-accb-e7ec7204cf02",
   "metadata": {},
   "outputs": [],
   "source": [
    "!javac -d classes/ -sourcepath src src/MultiNum.java"
   ]
  },
  {
   "cell_type": "code",
   "execution_count": null,
   "id": "963ed85a-621c-465b-b38c-7ea34b59205f",
   "metadata": {},
   "outputs": [],
   "source": [
    "!java -cp classs/ MultiNum"
   ]
  },
  {
   "cell_type": "code",
   "execution_count": 11,
   "id": "d85eb99d-b854-4d4c-9441-e6a1b4a7fec8",
   "metadata": {},
   "outputs": [
    {
     "name": "stdout",
     "output_type": "stream",
     "text": [
      "Overwriting src/DivideNum.java\n"
     ]
    }
   ],
   "source": [
    "%%writefile src/DivideNum.java\n",
    "import java.util.Scanner;\n",
    "public class DivideNum{\n",
    "    public static void main(String[] args){\n",
    "        Scanner in= new Scanner(System.in);\n",
    "        double first=in.nextDouble();\n",
    "        double second=in.nextDouble();\n",
    "        System.out.println(first/second);\n",
    "    }\n",
    "}"
   ]
  },
  {
   "cell_type": "code",
   "execution_count": 12,
   "id": "6af8828e-6973-4a66-8b3e-e98d22a706cf",
   "metadata": {},
   "outputs": [],
   "source": [
    "!javac -d classes/ -sourcepath src src/DivideNum.java"
   ]
  },
  {
   "cell_type": "code",
   "execution_count": null,
   "id": "6223764b-06b6-4bd8-b87f-5b2108c2288e",
   "metadata": {},
   "outputs": [],
   "source": [
    "!java -cp classes/ DivideNum"
   ]
  },
  {
   "cell_type": "code",
   "execution_count": 13,
   "id": "141ecf3f-d6fe-4a93-ab8f-825645d1e5c5",
   "metadata": {},
   "outputs": [
    {
     "name": "stdout",
     "output_type": "stream",
     "text": [
      "Overwriting src/CalcNum.java\n"
     ]
    }
   ],
   "source": [
    "%%writefile src/CalcNum.java\n",
    "import java.util.Scanner;\n",
    "public class CalcNum{\n",
    "    public static void main(String[] args){\n",
    "        Scanner in= new Scanner(System.in);\n",
    "        int first=in.nextInt();\n",
    "        int second=in.nextInt();\n",
    "        System.out.println(first+second);\n",
    "        System.out.println(first-second);\n",
    "        System.out.println(first*second);\n",
    "        System.out.println(first/second);\n",
    "        System.out.println(first%second);\n",
    "    }\n",
    "}"
   ]
  },
  {
   "cell_type": "code",
   "execution_count": 14,
   "id": "793952a5-e559-4101-bfc9-2d2d6e30fe42",
   "metadata": {},
   "outputs": [],
   "source": [
    "!javac -d classes/ -sourcepath src src/CalcNum.java"
   ]
  },
  {
   "cell_type": "code",
   "execution_count": null,
   "id": "f4a590c8-c75f-4fa0-a18d-8c23d25246f6",
   "metadata": {},
   "outputs": [],
   "source": [
    "!java -cp clases/ CalcNum"
   ]
  },
  {
   "cell_type": "code",
   "execution_count": 15,
   "id": "9f23edcc-5dd1-4b12-9e1d-c3c460ec1800",
   "metadata": {},
   "outputs": [
    {
     "name": "stdout",
     "output_type": "stream",
     "text": [
      "Overwriting src/JoinError.java\n"
     ]
    }
   ],
   "source": [
    "%%writefile src/JoinError.java\n",
    "import java.util.Scanner;\n",
    "public class JoinError{\n",
    "    public static void main(String[] args){\n",
    "        Scanner in= new Scanner(System.in);\n",
    "        String id=in.next();\n",
    "        System.out.printf(\"%s??!\",id);\n",
    "    }\n",
    "}"
   ]
  },
  {
   "cell_type": "code",
   "execution_count": 16,
   "id": "006eef2a-7a32-4a68-a3ce-94b9bc04d2d0",
   "metadata": {},
   "outputs": [],
   "source": [
    "!javac -d classes/ -sourcepath src src/JoinError.java"
   ]
  },
  {
   "cell_type": "code",
   "execution_count": null,
   "id": "f95a8b81-e04e-4ad0-a59c-15cae6ec2eac",
   "metadata": {},
   "outputs": [],
   "source": [
    "!java -cp calsses/ JoinError"
   ]
  },
  {
   "cell_type": "code",
   "execution_count": 17,
   "id": "ab895f08-517e-469a-83b0-0d77b00967b2",
   "metadata": {},
   "outputs": [
    {
     "name": "stdout",
     "output_type": "stream",
     "text": [
      "Overwriting src/ChangeYear.java\n"
     ]
    }
   ],
   "source": [
    "%%writefile src/ChangeYear.java\n",
    "import java.util.Scanner;\n",
    "public class ChangeYear{\n",
    "    public static void main(String[] args){\n",
    "        Scanner in= new Scanner(System.in);\n",
    "        int bud=in.nextInt();\n",
    "        System.out.println(bud-543);\n",
    "    }\n",
    "}"
   ]
  },
  {
   "cell_type": "code",
   "execution_count": 18,
   "id": "b25f5cc0-b18c-4d68-be81-1a7cbcd3fcfe",
   "metadata": {},
   "outputs": [],
   "source": [
    "!javac -d classes/ -sourcepath src src/ChangeYear.java"
   ]
  },
  {
   "cell_type": "code",
   "execution_count": null,
   "id": "4731c4a8-35b3-4ebb-b61f-7112c20d2a0c",
   "metadata": {},
   "outputs": [],
   "source": [
    "!java -cp classes/ ChangeYear"
   ]
  },
  {
   "cell_type": "code",
   "execution_count": 19,
   "id": "6ba30735-b68d-4639-890e-c8610854ae78",
   "metadata": {},
   "outputs": [
    {
     "name": "stdout",
     "output_type": "stream",
     "text": [
      "Overwriting src/RemainNum.java\n"
     ]
    }
   ],
   "source": [
    "%%writefile src/RemainNum.java\n",
    "import java.util.Scanner;\n",
    "public class RemainNum{\n",
    "    public static void main(String[] args){\n",
    "        Scanner in= new Scanner(System.in);\n",
    "        int first=in.nextInt();\n",
    "        int second=in.nextInt();\n",
    "        int third=in.nextInt();\n",
    "        \n",
    "        System.out.println((first+second)%third);\n",
    "        System.out.println(((first%third)+(second%third))%third);\n",
    "        System.out.println((first*second)%third);\n",
    "        System.out.println(((first%third)*(second%third))%third);\n",
    "    }\n",
    "}"
   ]
  },
  {
   "cell_type": "code",
   "execution_count": 20,
   "id": "8f888705-2319-4233-acf5-3591388ce977",
   "metadata": {},
   "outputs": [],
   "source": [
    "!javac -d classes/ -sourcepath src src/RemainNum.java"
   ]
  },
  {
   "cell_type": "code",
   "execution_count": null,
   "id": "937bdcd0-5aca-4431-b5ca-2b7a7cdd9481",
   "metadata": {},
   "outputs": [],
   "source": [
    "!java -cp classes/ RemainNum"
   ]
  },
  {
   "cell_type": "code",
   "execution_count": 21,
   "id": "ba61d63d-83c9-4467-8ac9-e028789c509f",
   "metadata": {},
   "outputs": [
    {
     "name": "stdout",
     "output_type": "stream",
     "text": [
      "Overwriting src/MultiTriple.java\n"
     ]
    }
   ],
   "source": [
    "%%writefile src/MultiTriple.java\n",
    "import java.util.Scanner;\n",
    "public class MultiTriple{\n",
    "    public static void main(String[] args){\n",
    "        Scanner in= new Scanner(System.in);\n",
    "        int first=in.nextInt();\n",
    "        int second=in.nextInt();\n",
    "\n",
    "        int hun=second/100;\n",
    "        int ten=second/10-hun*10;\n",
    "        int one=second-(hun*100+ten*10);\n",
    "\n",
    "        System.out.println(first*one);\n",
    "        System.out.println(first*ten);\n",
    "        System.out.println(first*hun);\n",
    "        System.out.println(first*second);\n",
    "    }\n",
    "}"
   ]
  },
  {
   "cell_type": "code",
   "execution_count": 22,
   "id": "fabbc961-6382-4924-84f5-04f6d49e1ca0",
   "metadata": {},
   "outputs": [],
   "source": [
    "!javac -d classes/ -sourcepath src src/MultiTriple.java"
   ]
  },
  {
   "cell_type": "code",
   "execution_count": null,
   "id": "1f43d597-bf65-47c7-8f03-663ac2c52749",
   "metadata": {},
   "outputs": [],
   "source": [
    "!java -cp classes/ MultiTriple"
   ]
  },
  {
   "cell_type": "code",
   "execution_count": 23,
   "id": "1a7c03c9-2737-4d0c-be34-85854002edcb",
   "metadata": {},
   "outputs": [
    {
     "name": "stdout",
     "output_type": "stream",
     "text": [
      "Overwriting src/AddTriple.java\n"
     ]
    }
   ],
   "source": [
    "%%writefile src/AddTriple.java\n",
    "import java.util.Scanner;\n",
    "public class AddTriple{\n",
    "    public static void main(String[] args){\n",
    "        Scanner in= new Scanner(System.in);\n",
    "        long first=in.nextLong();\n",
    "        long second=in.nextLong();\n",
    "        long third=in.nextLong();\n",
    "\n",
    "        System.out.println(first+second+third);\n",
    "    }\n",
    "}"
   ]
  },
  {
   "cell_type": "code",
   "execution_count": 24,
   "id": "71f3f392-343f-4d31-bbba-8d3a9f3bb4d3",
   "metadata": {},
   "outputs": [],
   "source": [
    "!javac -d classes/ -sourcepath src src/AddTriple.java"
   ]
  },
  {
   "cell_type": "code",
   "execution_count": null,
   "id": "531b5e18-73aa-4dbc-a239-9064aaf136f0",
   "metadata": {},
   "outputs": [],
   "source": [
    "!java -cp classes/ AddTriple"
   ]
  },
  {
   "cell_type": "code",
   "execution_count": 25,
   "id": "bd966211-be9c-49f8-bf6c-93c7f118b166",
   "metadata": {},
   "outputs": [
    {
     "name": "stdout",
     "output_type": "stream",
     "text": [
      "Overwriting src/DrawCat.java\n"
     ]
    }
   ],
   "source": [
    "%%writefile src/DrawCat.java\n",
    "public class DrawCat{\n",
    "    public static void main(String[] args){\n",
    "        System.out.println(\"\\\\    /\\\\\");\n",
    "        System.out.println(\" )  ( ')\");\n",
    "        System.out.println(\"(  /  )\");\n",
    "        System.out.println(\" \\\\(__)|\");\n",
    "    }\n",
    "}"
   ]
  },
  {
   "cell_type": "code",
   "execution_count": 26,
   "id": "30b707fe-75bf-4237-9e73-fe7511e52ebb",
   "metadata": {},
   "outputs": [],
   "source": [
    "!javac -d classes/ -sourcepath src src/DrawCat.java"
   ]
  },
  {
   "cell_type": "code",
   "execution_count": 27,
   "id": "74d98cd8-f458-4f8d-91cb-f9d20a457cb8",
   "metadata": {},
   "outputs": [
    {
     "name": "stdout",
     "output_type": "stream",
     "text": [
      "\\    /\\\n",
      " )  ( ')\n",
      "(  /  )\n",
      " \\(__)|\n"
     ]
    }
   ],
   "source": [
    "!java -cp classes/ DrawCat"
   ]
  },
  {
   "cell_type": "code",
   "execution_count": 28,
   "id": "3aaffab0-3a45-477c-81f4-8bd22137cd61",
   "metadata": {},
   "outputs": [
    {
     "name": "stdout",
     "output_type": "stream",
     "text": [
      "Overwriting src/DrawDog.java\n"
     ]
    }
   ],
   "source": [
    "%%writefile src/DrawDog.java\n",
    "public class DrawDog{\n",
    "    public static void main(String[] args){\n",
    "        System.out.println(\"|\\\\_/|\");\n",
    "        System.out.println(\"|q p|   /}\");\n",
    "        System.out.println(\"( 0 )\\\"\\\"\\\"\\\\\");\n",
    "        System.out.println(\"|\\\"^\\\"`    |\");\n",
    "        System.out.println(\"||_/=\\\\\\\\__|\");\n",
    "    }\n",
    "}"
   ]
  },
  {
   "cell_type": "code",
   "execution_count": 29,
   "id": "dd880c0d-af28-4ee1-9972-795c639e51c5",
   "metadata": {},
   "outputs": [],
   "source": [
    "!javac -d classes/ -sourcepath src src/DrawDog.java"
   ]
  },
  {
   "cell_type": "code",
   "execution_count": 30,
   "id": "4186c8d4-de03-4799-a9f9-bad6de8d9c7e",
   "metadata": {},
   "outputs": [
    {
     "name": "stdout",
     "output_type": "stream",
     "text": [
      "|\\_/|\n",
      "|q p|   /}\n",
      "( 0 )\"\"\"\\\n",
      "|\"^\"`    |\n",
      "||_/=\\\\__|\n"
     ]
    }
   ],
   "source": [
    "!java -cp classes/ DrawDog"
   ]
  }
 ],
 "metadata": {
  "kernelspec": {
   "display_name": "Python 3 (ipykernel)",
   "language": "python",
   "name": "python3"
  },
  "language_info": {
   "codemirror_mode": {
    "name": "ipython",
    "version": 3
   },
   "file_extension": ".py",
   "mimetype": "text/x-python",
   "name": "python",
   "nbconvert_exporter": "python",
   "pygments_lexer": "ipython3",
   "version": "3.12.2"
  }
 },
 "nbformat": 4,
 "nbformat_minor": 5
}
